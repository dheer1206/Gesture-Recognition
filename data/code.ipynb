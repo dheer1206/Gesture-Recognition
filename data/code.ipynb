{
 "cells": [
  {
   "cell_type": "code",
   "execution_count": 1,
   "metadata": {},
   "outputs": [],
   "source": [
    "import tensorflow as tf"
   ]
  },
  {
   "cell_type": "code",
   "execution_count": 2,
   "metadata": {},
   "outputs": [],
   "source": [
    "import pandas as pd\n",
    "import numpy as np\n",
    "from PIL import Image"
   ]
  },
  {
   "cell_type": "code",
   "execution_count": 3,
   "metadata": {},
   "outputs": [
    {
     "name": "stderr",
     "output_type": "stream",
     "text": [
      "/home/dheer1206/anaconda3/envs/ai/lib/python3.5/site-packages/matplotlib/font_manager.py:279: UserWarning: Matplotlib is building the font cache using fc-list. This may take a moment.\n",
      "  'Matplotlib is building the font cache using fc-list. '\n"
     ]
    }
   ],
   "source": [
    "import matplotlib.pyplot as plt\n",
    "import matplotlib.image as mpimg\n",
    "\n",
    "%matplotlib inline"
   ]
  },
  {
   "cell_type": "code",
   "execution_count": 4,
   "metadata": {},
   "outputs": [],
   "source": [
    "import os"
   ]
  },
  {
   "cell_type": "code",
   "execution_count": 5,
   "metadata": {},
   "outputs": [
    {
     "data": {
      "text/plain": [
       "['Point',\n",
       " 'code.ipynb',\n",
       " 'Five',\n",
       " 'A',\n",
       " 'final_out.csv',\n",
       " 'temp.ipynb',\n",
       " 'test',\n",
       " 'C',\n",
       " 'B',\n",
       " 'All',\n",
       " 'V',\n",
       " '.ipynb_checkpoints']"
      ]
     },
     "execution_count": 5,
     "metadata": {},
     "output_type": "execute_result"
    }
   ],
   "source": [
    "os.listdir()"
   ]
  },
  {
   "cell_type": "code",
   "execution_count": 165,
   "metadata": {
    "scrolled": false
   },
   "outputs": [
    {
     "name": "stdout",
     "output_type": "stream",
     "text": [
      "A\n",
      "B\n",
      "C\n",
      "F\n",
      "P\n",
      "V\n"
     ]
    }
   ],
   "source": [
    "l=['A','B','C','Five','Point','V']\n",
    "d = {}\n",
    "cc = 0\n",
    "for dire in l :\n",
    "    c = 1\n",
    "    d[dire[0]] = cc \n",
    "    print (dire[0])\n",
    "    cc += 1\n",
    "    for i in os.listdir(dire) :\n",
    "        im = Image.open(dire + \"/\" + i)\n",
    "        #rint (\"All/\" + dire + str(c) + \".jpg\")\n",
    "        im.save(\"All/\" + dire + str(c) + \".jpg\")\n",
    "        c += 1 \n",
    "        #im2 = mpimg.imread(\"Point1/\" + str(c) + \".png\")"
   ]
  },
  {
   "cell_type": "code",
   "execution_count": 166,
   "metadata": {},
   "outputs": [
    {
     "data": {
      "text/plain": [
       "4"
      ]
     },
     "execution_count": 166,
     "metadata": {},
     "output_type": "execute_result"
    }
   ],
   "source": [
    "d['P']"
   ]
  },
  {
   "cell_type": "code",
   "execution_count": 167,
   "metadata": {},
   "outputs": [],
   "source": [
    "def rgb2gray(rgb):\n",
    "    return np.dot(rgb[...,:3], [0.299, 0.587, 0.114])"
   ]
  },
  {
   "cell_type": "markdown",
   "metadata": {
    "collapsed": true
   },
   "source": [
    "#  Converting Images"
   ]
  },
  {
   "cell_type": "code",
   "execution_count": 168,
   "metadata": {},
   "outputs": [],
   "source": [
    "from skimage.transform import resize"
   ]
  },
  {
   "cell_type": "code",
   "execution_count": 169,
   "metadata": {},
   "outputs": [],
   "source": [
    "images = []\n",
    "output = []\n",
    "for i in os.listdir(\"All\") :\n",
    "    path = \"All/\" + i\n",
    "    im = mpimg.imread(path)\n",
    "    im2 = rgb2gray(im)\n",
    "    im2 = resize(im2, (60,60), mode='reflect')\n",
    "    im2 = im2.reshape((3600,))\n",
    "    images.append(im2)\n",
    "    output.append(int(d[i[0]]))"
   ]
  },
  {
   "cell_type": "code",
   "execution_count": 170,
   "metadata": {},
   "outputs": [],
   "source": [
    "features = np.array(images)\n",
    "features *= (1.0/255.0)\n",
    "target = np.array(output)\n",
    "target = target.reshape(4872,1)"
   ]
  },
  {
   "cell_type": "code",
   "execution_count": 171,
   "metadata": {},
   "outputs": [],
   "source": [
    "def idid(i) :\n",
    "    #print (type(i))\n",
    "    l = []\n",
    "    if (i <= 23) :\n",
    "        l.append(0)\n",
    "    elif (i <= 45) :\n",
    "        l.append(1)\n",
    "    elif (i<=74) :\n",
    "        l.append(2)\n",
    "    elif (i <= 103) :\n",
    "        l.append(3)\n",
    "    elif (i<=127) :\n",
    "        l.append(4)\n",
    "    elif (i<=170) :\n",
    "        l.append(5)\n",
    "    return int(l[0])\n",
    "\n",
    "def convo(a) :\n",
    "    ab = a.split('.') \n",
    "    return int(ab[0])    "
   ]
  },
  {
   "cell_type": "code",
   "execution_count": 172,
   "metadata": {},
   "outputs": [
    {
     "name": "stdout",
     "output_type": "stream",
     "text": [
      "72.ppm 2\n",
      "147.ppm 5\n",
      "142.ppm 5\n",
      "162.ppm 5\n",
      "94.ppm 3\n",
      "161.ppm 5\n",
      "112.ppm 4\n",
      "136.ppm 5\n",
      "22.ppm 0\n",
      "129.ppm 5\n",
      "126.ppm 4\n",
      "76.ppm 3\n",
      "58.ppm 2\n",
      "146.ppm 5\n",
      "87.ppm 3\n",
      "125.ppm 4\n",
      "74.ppm 2\n",
      "149.ppm 5\n",
      "64.ppm 2\n",
      "159.ppm 5\n",
      "163.ppm 5\n",
      "114.ppm 4\n",
      "40.ppm 1\n",
      "167.ppm 5\n",
      "42.ppm 1\n",
      "13.ppm 0\n",
      "27.ppm 1\n",
      "145.ppm 5\n",
      "122.ppm 4\n",
      "160.ppm 5\n",
      "30.ppm 1\n",
      "35.ppm 1\n",
      "26.ppm 1\n",
      "93.ppm 3\n",
      "120.ppm 4\n",
      "62.ppm 2\n",
      "143.ppm 5\n",
      "77.ppm 3\n",
      "156.ppm 5\n",
      "25.ppm 1\n",
      "105.ppm 4\n",
      "16.ppm 0\n",
      "127.ppm 4\n",
      "33.ppm 1\n",
      "155.ppm 5\n",
      "24.ppm 1\n",
      "116.ppm 4\n",
      "104.ppm 4\n",
      "37.ppm 1\n",
      "128.ppm 5\n",
      "68.ppm 2\n",
      "51.ppm 2\n",
      "65.ppm 2\n",
      "7.ppm 0\n",
      "54.ppm 2\n",
      "103.ppm 3\n",
      "44.ppm 1\n",
      "100.ppm 3\n",
      "73.ppm 2\n",
      "70.ppm 2\n",
      "154.ppm 5\n",
      "29.ppm 1\n",
      "139.ppm 5\n",
      "157.ppm 5\n",
      "123.ppm 4\n",
      "90.ppm 3\n",
      "96.ppm 3\n",
      "6.ppm 0\n",
      "170.ppm 5\n",
      "106.ppm 4\n",
      "144.ppm 5\n",
      "152.ppm 5\n",
      "111.ppm 4\n",
      "2.ppm 0\n",
      "57.ppm 2\n",
      "109.ppm 4\n",
      "131.ppm 5\n",
      "158.ppm 5\n",
      "3.ppm 0\n",
      "59.ppm 2\n",
      "20.ppm 0\n",
      "98.ppm 3\n",
      "101.ppm 3\n",
      "69.ppm 2\n",
      "31.ppm 1\n",
      "61.ppm 2\n",
      "67.ppm 2\n",
      "85.ppm 3\n",
      "97.ppm 3\n",
      "99.ppm 3\n",
      "14.ppm 0\n",
      "21.ppm 0\n",
      "53.ppm 2\n",
      "75.ppm 3\n",
      "153.ppm 5\n",
      "108.ppm 4\n",
      "91.ppm 3\n",
      "151.ppm 5\n",
      "165.ppm 5\n",
      "137.ppm 5\n",
      "36.ppm 1\n",
      "121.ppm 4\n",
      "23.ppm 0\n",
      "107.ppm 4\n",
      "49.ppm 2\n",
      "168.ppm 5\n",
      "132.ppm 5\n",
      "10.ppm 0\n",
      "88.ppm 3\n",
      "5.ppm 0\n",
      "110.ppm 4\n",
      "79.ppm 3\n",
      "63.ppm 2\n",
      "39.ppm 1\n",
      "92.ppm 3\n",
      "166.ppm 5\n",
      "113.ppm 4\n",
      "45.ppm 1\n",
      "38.ppm 1\n",
      "12.ppm 0\n",
      "80.ppm 3\n",
      "102.ppm 3\n",
      "134.ppm 5\n",
      "130.ppm 5\n",
      "83.ppm 3\n",
      "124.ppm 4\n",
      "138.ppm 5\n",
      "115.ppm 4\n",
      "78.ppm 3\n",
      "48.ppm 2\n",
      "15.ppm 0\n",
      "82.ppm 3\n",
      "41.ppm 1\n",
      "28.ppm 1\n",
      "133.ppm 5\n",
      "66.ppm 2\n",
      "55.ppm 2\n",
      "9.ppm 0\n",
      "84.ppm 3\n",
      "119.ppm 4\n",
      "50.ppm 2\n",
      "52.ppm 2\n",
      "86.ppm 3\n",
      "1.ppm 0\n",
      "141.ppm 5\n",
      "19.ppm 0\n",
      "43.ppm 1\n",
      "148.ppm 5\n",
      "17.ppm 0\n",
      "11.ppm 0\n",
      "150.ppm 5\n",
      "71.ppm 2\n",
      "118.ppm 4\n",
      "56.ppm 2\n",
      "60.ppm 2\n",
      "169.ppm 5\n",
      "95.ppm 3\n",
      "81.ppmintit\n",
      "81.ppm 3\n",
      "135.ppm 5\n",
      "89.ppm 3\n",
      "32.ppm 1\n",
      "34.ppm 1\n",
      "8.ppm 0\n",
      "46.ppm 2\n",
      "47.ppm 2\n",
      "4.ppm 0\n",
      "18.ppm 0\n",
      "164.ppm 5\n",
      "140.ppm 5\n",
      "117.ppm 4\n"
     ]
    }
   ],
   "source": [
    "images2 = []\n",
    "output2 = []\n",
    "c = 0\n",
    "for i in os.listdir(\"test/data\") :\n",
    "    path = \"test/data/\" + i\n",
    "    im = mpimg.imread(path)\n",
    "    im2 = rgb2gray(im)\n",
    "    im2 = resize(im2, (60,60), mode='reflect')\n",
    "    im2 = im2.reshape((3600,))\n",
    "    images2.append(im2)\n",
    "    output2.append(idid(convo(i)))\n",
    "    if (c == 157) :\n",
    "        print (i + \"intit\")\n",
    "    c += 1     \n",
    "    print (i + \" \" + str(idid(convo(i))))"
   ]
  },
  {
   "cell_type": "code",
   "execution_count": 173,
   "metadata": {},
   "outputs": [],
   "source": [
    "#from skimage.transform import resize\n",
    "#my_image = resize(my_image, (28,28) , mode = 'reflect' )"
   ]
  },
  {
   "cell_type": "code",
   "execution_count": 177,
   "metadata": {},
   "outputs": [],
   "source": [
    "features2 = np.array(images2)\n",
    "features *= (1.0/255.0)\n",
    "target2 = np.array(output2)\n",
    "target2 = target2.reshape(170,1)"
   ]
  },
  {
   "cell_type": "markdown",
   "metadata": {},
   "source": [
    "# Training Our Model"
   ]
  },
  {
   "cell_type": "code",
   "execution_count": 178,
   "metadata": {},
   "outputs": [],
   "source": [
    "import keras\n",
    "from keras.models import Sequential\n",
    "from keras.layers import Dense\n",
    "from keras.utils.np_utils import to_categorical"
   ]
  },
  {
   "cell_type": "code",
   "execution_count": 182,
   "metadata": {},
   "outputs": [],
   "source": [
    "model = Sequential()\n",
    "\n",
    "model.add(Dense(units=512, activation='relu', input_dim=3600))\n",
    "model.add(Dense(units=256, activation='relu'))\n",
    "model.add(Dense(units=128, activation='relu'))\n",
    "model.add(Dense(units=32, activation='relu'))\n",
    "\n",
    "model.add(Dense(units=6, activation='softmax'))\n",
    "\n",
    "model.compile( loss = keras.losses.categorical_crossentropy ,\n",
    "               optimizer = keras.optimizers.Adam() ,\n",
    "               metrics = ['accuracy'])"
   ]
  },
  {
   "cell_type": "code",
   "execution_count": 183,
   "metadata": {},
   "outputs": [],
   "source": [
    "y_binary = to_categorical(target)\n",
    "y2_binary = to_categorical(target2)"
   ]
  },
  {
   "cell_type": "code",
   "execution_count": 184,
   "metadata": {},
   "outputs": [],
   "source": [
    "#model.fit(features,y_binary,epochs=15,batch_size=32,verbose=1)"
   ]
  },
  {
   "cell_type": "code",
   "execution_count": 185,
   "metadata": {},
   "outputs": [
    {
     "name": "stdout",
     "output_type": "stream",
     "text": [
      "Train on 4872 samples, validate on 170 samples\n",
      "Epoch 1/15\n",
      "4872/4872 [==============================] - 5s 1ms/step - loss: 1.6983 - acc: 0.2800 - val_loss: 13.8426 - val_acc: 0.1412\n",
      "Epoch 2/15\n",
      "4872/4872 [==============================] - 5s 1ms/step - loss: 1.6814 - acc: 0.2884 - val_loss: 13.8426 - val_acc: 0.1412\n",
      "Epoch 3/15\n",
      "4872/4872 [==============================] - 5s 1ms/step - loss: 1.6816 - acc: 0.2863 - val_loss: 13.8426 - val_acc: 0.1412\n",
      "Epoch 4/15\n",
      "4872/4872 [==============================] - 5s 1ms/step - loss: 1.6827 - acc: 0.2865 - val_loss: 13.8426 - val_acc: 0.1412\n",
      "Epoch 5/15\n",
      "4872/4872 [==============================] - 5s 1ms/step - loss: 1.6823 - acc: 0.2841 - val_loss: 13.8340 - val_acc: 0.1412\n",
      "Epoch 6/15\n",
      "4872/4872 [==============================] - 6s 1ms/step - loss: 1.6811 - acc: 0.2847 - val_loss: 13.8330 - val_acc: 0.1412\n",
      "Epoch 7/15\n",
      "2592/4872 [==============>...............] - ETA: 3s - loss: 1.6715 - acc: 0.2909"
     ]
    },
    {
     "ename": "KeyboardInterrupt",
     "evalue": "",
     "output_type": "error",
     "traceback": [
      "\u001b[0;31m---------------------------------------------------------------------------\u001b[0m",
      "\u001b[0;31mKeyboardInterrupt\u001b[0m                         Traceback (most recent call last)",
      "\u001b[0;32m<ipython-input-185-0885f4ee0b80>\u001b[0m in \u001b[0;36m<module>\u001b[0;34m()\u001b[0m\n\u001b[0;32m----> 1\u001b[0;31m \u001b[0mmodel\u001b[0m\u001b[0;34m.\u001b[0m\u001b[0mfit\u001b[0m\u001b[0;34m(\u001b[0m\u001b[0mfeatures\u001b[0m\u001b[0;34m,\u001b[0m\u001b[0my_binary\u001b[0m\u001b[0;34m,\u001b[0m\u001b[0mepochs\u001b[0m\u001b[0;34m=\u001b[0m\u001b[0;36m15\u001b[0m\u001b[0;34m,\u001b[0m\u001b[0mbatch_size\u001b[0m\u001b[0;34m=\u001b[0m\u001b[0;36m32\u001b[0m\u001b[0;34m,\u001b[0m\u001b[0mverbose\u001b[0m\u001b[0;34m=\u001b[0m\u001b[0;36m1\u001b[0m\u001b[0;34m,\u001b[0m\u001b[0mvalidation_data\u001b[0m\u001b[0;34m=\u001b[0m\u001b[0;34m(\u001b[0m\u001b[0mfeatures2\u001b[0m\u001b[0;34m,\u001b[0m\u001b[0my2_binary\u001b[0m\u001b[0;34m)\u001b[0m\u001b[0;34m)\u001b[0m\u001b[0;34m\u001b[0m\u001b[0m\n\u001b[0m",
      "\u001b[0;32m~/anaconda3/envs/ai/lib/python3.5/site-packages/keras/models.py\u001b[0m in \u001b[0;36mfit\u001b[0;34m(self, x, y, batch_size, epochs, verbose, callbacks, validation_split, validation_data, shuffle, class_weight, sample_weight, initial_epoch, **kwargs)\u001b[0m\n\u001b[1;32m    891\u001b[0m                               \u001b[0mclass_weight\u001b[0m\u001b[0;34m=\u001b[0m\u001b[0mclass_weight\u001b[0m\u001b[0;34m,\u001b[0m\u001b[0;34m\u001b[0m\u001b[0m\n\u001b[1;32m    892\u001b[0m                               \u001b[0msample_weight\u001b[0m\u001b[0;34m=\u001b[0m\u001b[0msample_weight\u001b[0m\u001b[0;34m,\u001b[0m\u001b[0;34m\u001b[0m\u001b[0m\n\u001b[0;32m--> 893\u001b[0;31m                               initial_epoch=initial_epoch)\n\u001b[0m\u001b[1;32m    894\u001b[0m \u001b[0;34m\u001b[0m\u001b[0m\n\u001b[1;32m    895\u001b[0m     def evaluate(self, x, y, batch_size=32, verbose=1,\n",
      "\u001b[0;32m~/anaconda3/envs/ai/lib/python3.5/site-packages/keras/engine/training.py\u001b[0m in \u001b[0;36mfit\u001b[0;34m(self, x, y, batch_size, epochs, verbose, callbacks, validation_split, validation_data, shuffle, class_weight, sample_weight, initial_epoch, steps_per_epoch, validation_steps, **kwargs)\u001b[0m\n\u001b[1;32m   1629\u001b[0m                               \u001b[0minitial_epoch\u001b[0m\u001b[0;34m=\u001b[0m\u001b[0minitial_epoch\u001b[0m\u001b[0;34m,\u001b[0m\u001b[0;34m\u001b[0m\u001b[0m\n\u001b[1;32m   1630\u001b[0m                               \u001b[0msteps_per_epoch\u001b[0m\u001b[0;34m=\u001b[0m\u001b[0msteps_per_epoch\u001b[0m\u001b[0;34m,\u001b[0m\u001b[0;34m\u001b[0m\u001b[0m\n\u001b[0;32m-> 1631\u001b[0;31m                               validation_steps=validation_steps)\n\u001b[0m\u001b[1;32m   1632\u001b[0m \u001b[0;34m\u001b[0m\u001b[0m\n\u001b[1;32m   1633\u001b[0m     def evaluate(self, x=None, y=None,\n",
      "\u001b[0;32m~/anaconda3/envs/ai/lib/python3.5/site-packages/keras/engine/training.py\u001b[0m in \u001b[0;36m_fit_loop\u001b[0;34m(self, f, ins, out_labels, batch_size, epochs, verbose, callbacks, val_f, val_ins, shuffle, callback_metrics, initial_epoch, steps_per_epoch, validation_steps)\u001b[0m\n\u001b[1;32m   1211\u001b[0m                     \u001b[0mbatch_logs\u001b[0m\u001b[0;34m[\u001b[0m\u001b[0;34m'size'\u001b[0m\u001b[0;34m]\u001b[0m \u001b[0;34m=\u001b[0m \u001b[0mlen\u001b[0m\u001b[0;34m(\u001b[0m\u001b[0mbatch_ids\u001b[0m\u001b[0;34m)\u001b[0m\u001b[0;34m\u001b[0m\u001b[0m\n\u001b[1;32m   1212\u001b[0m                     \u001b[0mcallbacks\u001b[0m\u001b[0;34m.\u001b[0m\u001b[0mon_batch_begin\u001b[0m\u001b[0;34m(\u001b[0m\u001b[0mbatch_index\u001b[0m\u001b[0;34m,\u001b[0m \u001b[0mbatch_logs\u001b[0m\u001b[0;34m)\u001b[0m\u001b[0;34m\u001b[0m\u001b[0m\n\u001b[0;32m-> 1213\u001b[0;31m                     \u001b[0mouts\u001b[0m \u001b[0;34m=\u001b[0m \u001b[0mf\u001b[0m\u001b[0;34m(\u001b[0m\u001b[0mins_batch\u001b[0m\u001b[0;34m)\u001b[0m\u001b[0;34m\u001b[0m\u001b[0m\n\u001b[0m\u001b[1;32m   1214\u001b[0m                     \u001b[0;32mif\u001b[0m \u001b[0;32mnot\u001b[0m \u001b[0misinstance\u001b[0m\u001b[0;34m(\u001b[0m\u001b[0mouts\u001b[0m\u001b[0;34m,\u001b[0m \u001b[0mlist\u001b[0m\u001b[0;34m)\u001b[0m\u001b[0;34m:\u001b[0m\u001b[0;34m\u001b[0m\u001b[0m\n\u001b[1;32m   1215\u001b[0m                         \u001b[0mouts\u001b[0m \u001b[0;34m=\u001b[0m \u001b[0;34m[\u001b[0m\u001b[0mouts\u001b[0m\u001b[0;34m]\u001b[0m\u001b[0;34m\u001b[0m\u001b[0m\n",
      "\u001b[0;32m~/anaconda3/envs/ai/lib/python3.5/site-packages/keras/backend/tensorflow_backend.py\u001b[0m in \u001b[0;36m__call__\u001b[0;34m(self, inputs)\u001b[0m\n\u001b[1;32m   2330\u001b[0m         updated = session.run(self.outputs + [self.updates_op],\n\u001b[1;32m   2331\u001b[0m                               \u001b[0mfeed_dict\u001b[0m\u001b[0;34m=\u001b[0m\u001b[0mfeed_dict\u001b[0m\u001b[0;34m,\u001b[0m\u001b[0;34m\u001b[0m\u001b[0m\n\u001b[0;32m-> 2332\u001b[0;31m                               **self.session_kwargs)\n\u001b[0m\u001b[1;32m   2333\u001b[0m         \u001b[0;32mreturn\u001b[0m \u001b[0mupdated\u001b[0m\u001b[0;34m[\u001b[0m\u001b[0;34m:\u001b[0m\u001b[0mlen\u001b[0m\u001b[0;34m(\u001b[0m\u001b[0mself\u001b[0m\u001b[0;34m.\u001b[0m\u001b[0moutputs\u001b[0m\u001b[0;34m)\u001b[0m\u001b[0;34m]\u001b[0m\u001b[0;34m\u001b[0m\u001b[0m\n\u001b[1;32m   2334\u001b[0m \u001b[0;34m\u001b[0m\u001b[0m\n",
      "\u001b[0;32m~/anaconda3/envs/ai/lib/python3.5/site-packages/tensorflow/python/client/session.py\u001b[0m in \u001b[0;36mrun\u001b[0;34m(self, fetches, feed_dict, options, run_metadata)\u001b[0m\n\u001b[1;32m    893\u001b[0m     \u001b[0;32mtry\u001b[0m\u001b[0;34m:\u001b[0m\u001b[0;34m\u001b[0m\u001b[0m\n\u001b[1;32m    894\u001b[0m       result = self._run(None, fetches, feed_dict, options_ptr,\n\u001b[0;32m--> 895\u001b[0;31m                          run_metadata_ptr)\n\u001b[0m\u001b[1;32m    896\u001b[0m       \u001b[0;32mif\u001b[0m \u001b[0mrun_metadata\u001b[0m\u001b[0;34m:\u001b[0m\u001b[0;34m\u001b[0m\u001b[0m\n\u001b[1;32m    897\u001b[0m         \u001b[0mproto_data\u001b[0m \u001b[0;34m=\u001b[0m \u001b[0mtf_session\u001b[0m\u001b[0;34m.\u001b[0m\u001b[0mTF_GetBuffer\u001b[0m\u001b[0;34m(\u001b[0m\u001b[0mrun_metadata_ptr\u001b[0m\u001b[0;34m)\u001b[0m\u001b[0;34m\u001b[0m\u001b[0m\n",
      "\u001b[0;32m~/anaconda3/envs/ai/lib/python3.5/site-packages/tensorflow/python/client/session.py\u001b[0m in \u001b[0;36m_run\u001b[0;34m(self, handle, fetches, feed_dict, options, run_metadata)\u001b[0m\n\u001b[1;32m   1122\u001b[0m     \u001b[0;32mif\u001b[0m \u001b[0mfinal_fetches\u001b[0m \u001b[0;32mor\u001b[0m \u001b[0mfinal_targets\u001b[0m \u001b[0;32mor\u001b[0m \u001b[0;34m(\u001b[0m\u001b[0mhandle\u001b[0m \u001b[0;32mand\u001b[0m \u001b[0mfeed_dict_tensor\u001b[0m\u001b[0;34m)\u001b[0m\u001b[0;34m:\u001b[0m\u001b[0;34m\u001b[0m\u001b[0m\n\u001b[1;32m   1123\u001b[0m       results = self._do_run(handle, final_targets, final_fetches,\n\u001b[0;32m-> 1124\u001b[0;31m                              feed_dict_tensor, options, run_metadata)\n\u001b[0m\u001b[1;32m   1125\u001b[0m     \u001b[0;32melse\u001b[0m\u001b[0;34m:\u001b[0m\u001b[0;34m\u001b[0m\u001b[0m\n\u001b[1;32m   1126\u001b[0m       \u001b[0mresults\u001b[0m \u001b[0;34m=\u001b[0m \u001b[0;34m[\u001b[0m\u001b[0;34m]\u001b[0m\u001b[0;34m\u001b[0m\u001b[0m\n",
      "\u001b[0;32m~/anaconda3/envs/ai/lib/python3.5/site-packages/tensorflow/python/client/session.py\u001b[0m in \u001b[0;36m_do_run\u001b[0;34m(self, handle, target_list, fetch_list, feed_dict, options, run_metadata)\u001b[0m\n\u001b[1;32m   1319\u001b[0m     \u001b[0;32mif\u001b[0m \u001b[0mhandle\u001b[0m \u001b[0;32mis\u001b[0m \u001b[0;32mNone\u001b[0m\u001b[0;34m:\u001b[0m\u001b[0;34m\u001b[0m\u001b[0m\n\u001b[1;32m   1320\u001b[0m       return self._do_call(_run_fn, self._session, feeds, fetches, targets,\n\u001b[0;32m-> 1321\u001b[0;31m                            options, run_metadata)\n\u001b[0m\u001b[1;32m   1322\u001b[0m     \u001b[0;32melse\u001b[0m\u001b[0;34m:\u001b[0m\u001b[0;34m\u001b[0m\u001b[0m\n\u001b[1;32m   1323\u001b[0m       \u001b[0;32mreturn\u001b[0m \u001b[0mself\u001b[0m\u001b[0;34m.\u001b[0m\u001b[0m_do_call\u001b[0m\u001b[0;34m(\u001b[0m\u001b[0m_prun_fn\u001b[0m\u001b[0;34m,\u001b[0m \u001b[0mself\u001b[0m\u001b[0;34m.\u001b[0m\u001b[0m_session\u001b[0m\u001b[0;34m,\u001b[0m \u001b[0mhandle\u001b[0m\u001b[0;34m,\u001b[0m \u001b[0mfeeds\u001b[0m\u001b[0;34m,\u001b[0m \u001b[0mfetches\u001b[0m\u001b[0;34m)\u001b[0m\u001b[0;34m\u001b[0m\u001b[0m\n",
      "\u001b[0;32m~/anaconda3/envs/ai/lib/python3.5/site-packages/tensorflow/python/client/session.py\u001b[0m in \u001b[0;36m_do_call\u001b[0;34m(self, fn, *args)\u001b[0m\n\u001b[1;32m   1325\u001b[0m   \u001b[0;32mdef\u001b[0m \u001b[0m_do_call\u001b[0m\u001b[0;34m(\u001b[0m\u001b[0mself\u001b[0m\u001b[0;34m,\u001b[0m \u001b[0mfn\u001b[0m\u001b[0;34m,\u001b[0m \u001b[0;34m*\u001b[0m\u001b[0margs\u001b[0m\u001b[0;34m)\u001b[0m\u001b[0;34m:\u001b[0m\u001b[0;34m\u001b[0m\u001b[0m\n\u001b[1;32m   1326\u001b[0m     \u001b[0;32mtry\u001b[0m\u001b[0;34m:\u001b[0m\u001b[0;34m\u001b[0m\u001b[0m\n\u001b[0;32m-> 1327\u001b[0;31m       \u001b[0;32mreturn\u001b[0m \u001b[0mfn\u001b[0m\u001b[0;34m(\u001b[0m\u001b[0;34m*\u001b[0m\u001b[0margs\u001b[0m\u001b[0;34m)\u001b[0m\u001b[0;34m\u001b[0m\u001b[0m\n\u001b[0m\u001b[1;32m   1328\u001b[0m     \u001b[0;32mexcept\u001b[0m \u001b[0merrors\u001b[0m\u001b[0;34m.\u001b[0m\u001b[0mOpError\u001b[0m \u001b[0;32mas\u001b[0m \u001b[0me\u001b[0m\u001b[0;34m:\u001b[0m\u001b[0;34m\u001b[0m\u001b[0m\n\u001b[1;32m   1329\u001b[0m       \u001b[0mmessage\u001b[0m \u001b[0;34m=\u001b[0m \u001b[0mcompat\u001b[0m\u001b[0;34m.\u001b[0m\u001b[0mas_text\u001b[0m\u001b[0;34m(\u001b[0m\u001b[0me\u001b[0m\u001b[0;34m.\u001b[0m\u001b[0mmessage\u001b[0m\u001b[0;34m)\u001b[0m\u001b[0;34m\u001b[0m\u001b[0m\n",
      "\u001b[0;32m~/anaconda3/envs/ai/lib/python3.5/site-packages/tensorflow/python/client/session.py\u001b[0m in \u001b[0;36m_run_fn\u001b[0;34m(session, feed_dict, fetch_list, target_list, options, run_metadata)\u001b[0m\n\u001b[1;32m   1304\u001b[0m           return tf_session.TF_Run(session, options,\n\u001b[1;32m   1305\u001b[0m                                    \u001b[0mfeed_dict\u001b[0m\u001b[0;34m,\u001b[0m \u001b[0mfetch_list\u001b[0m\u001b[0;34m,\u001b[0m \u001b[0mtarget_list\u001b[0m\u001b[0;34m,\u001b[0m\u001b[0;34m\u001b[0m\u001b[0m\n\u001b[0;32m-> 1306\u001b[0;31m                                    status, run_metadata)\n\u001b[0m\u001b[1;32m   1307\u001b[0m \u001b[0;34m\u001b[0m\u001b[0m\n\u001b[1;32m   1308\u001b[0m     \u001b[0;32mdef\u001b[0m \u001b[0m_prun_fn\u001b[0m\u001b[0;34m(\u001b[0m\u001b[0msession\u001b[0m\u001b[0;34m,\u001b[0m \u001b[0mhandle\u001b[0m\u001b[0;34m,\u001b[0m \u001b[0mfeed_dict\u001b[0m\u001b[0;34m,\u001b[0m \u001b[0mfetch_list\u001b[0m\u001b[0;34m)\u001b[0m\u001b[0;34m:\u001b[0m\u001b[0;34m\u001b[0m\u001b[0m\n",
      "\u001b[0;31mKeyboardInterrupt\u001b[0m: "
     ]
    }
   ],
   "source": [
    "model.fit(features,y_binary,epochs=15,batch_size=32,verbose=1,validation_data=(features2,y2_binary))"
   ]
  },
  {
   "cell_type": "code",
   "execution_count": 98,
   "metadata": {},
   "outputs": [
    {
     "name": "stdout",
     "output_type": "stream",
     "text": [
      "170/170 [==============================] - 0s 174us/step\n"
     ]
    },
    {
     "data": {
      "text/plain": [
       "[13.273725778916303, 0.1764705884106019]"
      ]
     },
     "execution_count": 98,
     "metadata": {},
     "output_type": "execute_result"
    }
   ],
   "source": [
    "model.evaluate(features2,y2_binary,verbose=1)"
   ]
  },
  {
   "cell_type": "code",
   "execution_count": 157,
   "metadata": {},
   "outputs": [],
   "source": [
    "from sklearn import svm\n",
    "    "
   ]
  },
  {
   "cell_type": "code",
   "execution_count": 186,
   "metadata": {},
   "outputs": [
    {
     "data": {
      "text/plain": [
       "<matplotlib.image.AxesImage at 0x7f40fad61710>"
      ]
     },
     "execution_count": 186,
     "metadata": {},
     "output_type": "execute_result"
    },
    {
     "data": {
      "image/png": "[encoded data removed]",
      "text/plain": [
       "<matplotlib.figure.Figure at 0x7f40facfeef0>"
      ]
     },
     "metadata": {},
     "output_type": "display_data"
    }
   ],
   "source": [
    "c = 151\n",
    "temp = features2[c].reshape(60,60)\n",
    "plt.imshow(temp,cmap='gray') "
   ]
  },
  {
   "cell_type": "code",
   "execution_count": 187,
   "metadata": {},
   "outputs": [
    {
     "name": "stdout",
     "output_type": "stream",
     "text": [
      "[2]\n"
     ]
    }
   ],
   "source": [
    " print (target2[c])"
   ]
  },
  {
   "cell_type": "code",
   "execution_count": null,
   "metadata": {},
   "outputs": [],
   "source": []
  }
 ],
 "metadata": {
  "kernelspec": {
   "display_name": "Python 3",
   "language": "python",
   "name": "python3"
  },
  "language_info": {
   "codemirror_mode": {
    "name": "ipython",
    "version": 3
   },
   "file_extension": ".py",
   "mimetype": "text/x-python",
   "name": "python",
   "nbconvert_exporter": "python",
   "pygments_lexer": "ipython3",
   "version": "3.5.2"
  }
 },
 "nbformat": 4,
 "nbformat_minor": 2
}
